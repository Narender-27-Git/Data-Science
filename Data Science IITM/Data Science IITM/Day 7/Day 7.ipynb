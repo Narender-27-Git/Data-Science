{
 "cells": [
  {
   "cell_type": "markdown",
   "id": "49005cff-52f6-42dc-a920-2d21d2c39d68",
   "metadata": {},
   "source": [
    "Inheritance\n",
    "\n"
   ]
  },
  {
   "cell_type": "raw",
   "id": "f82ffd69-3f71-431d-bf7b-319d2e1258cc",
   "metadata": {},
   "source": []
  },
  {
   "cell_type": "raw",
   "id": "994962ba-1d5c-4ede-8e6e-07a304fb735a",
   "metadata": {},
   "source": [
    "# Simple inheritanse\n",
    "# Multiple inheritanse\n",
    "# Multileve inheritanse\n",
    "# Hierarchial inheritanse\n",
    "# Hybrid inheritanse"
   ]
  },
  {
   "cell_type": "code",
   "execution_count": 16,
   "id": "35b46cfc-03b8-4c31-9b90-a86cc0f98018",
   "metadata": {},
   "outputs": [],
   "source": [
    "class A:\n",
    "\n",
    "    def i_am_a():\n",
    "        print('I am a Func of Class A')\n",
    "\n",
    "    def i_am_b():\n",
    "        print('I am b Func of Class B')\n",
    "\n",
    "\n",
    "class B:\n",
    "\n",
    "    def i_am_b():\n",
    "        print('I am b Func of Class B')"
   ]
  },
  {
   "cell_type": "code",
   "execution_count": null,
   "id": "482c8ef8-b1dc-44f6-b328-523f506166d1",
   "metadata": {},
   "outputs": [],
   "source": []
  },
  {
   "cell_type": "code",
   "execution_count": null,
   "id": "f267c774-ec76-4d93-9d84-8d01fd33edbf",
   "metadata": {},
   "outputs": [],
   "source": []
  },
  {
   "cell_type": "code",
   "execution_count": null,
   "id": "489ca89d-043a-4b39-ac46-de45e98941cc",
   "metadata": {},
   "outputs": [],
   "source": [
    "# Simple Inheritance(single)"
   ]
  },
  {
   "cell_type": "code",
   "execution_count": 12,
   "id": "950ad112-5385-45fe-b2a9-3d9212973434",
   "metadata": {},
   "outputs": [],
   "source": [
    "class Bmw: # parent class\n",
    "    def turbo_engine(self):\n",
    "        print('Super fast engine')\n",
    "\n",
    "\n",
    "class Audi(Bmw):#child class\n",
    "    def auto_pilot(self):\n",
    "        print('Self driving car')\n",
    "        "
   ]
  },
  {
   "cell_type": "code",
   "execution_count": 17,
   "id": "6932b7e4-1a1d-4983-b38f-0f11aba49166",
   "metadata": {},
   "outputs": [],
   "source": [
    "audi_r8=Audi()"
   ]
  },
  {
   "cell_type": "code",
   "execution_count": 19,
   "id": "79c482c2-d0a4-4649-98b1-3a1b4fd84fdc",
   "metadata": {},
   "outputs": [
    {
     "name": "stdout",
     "output_type": "stream",
     "text": [
      "Super fast engine\n"
     ]
    }
   ],
   "source": [
    "audi_r8.turbo_engine()"
   ]
  },
  {
   "cell_type": "code",
   "execution_count": null,
   "id": "e3b90d38-b0b4-42fb-b81d-d169faab55f2",
   "metadata": {},
   "outputs": [],
   "source": []
  },
  {
   "cell_type": "code",
   "execution_count": null,
   "id": "fbcaf8f0-fe29-4ff4-91e8-58cc6886762d",
   "metadata": {},
   "outputs": [],
   "source": []
  },
  {
   "cell_type": "code",
   "execution_count": null,
   "id": "9ffaf446-e5b9-4a62-810f-d65451d9db61",
   "metadata": {},
   "outputs": [],
   "source": [
    "# Multiple Inheritance"
   ]
  },
  {
   "cell_type": "code",
   "execution_count": 24,
   "id": "c9540cc6-efdf-48ca-8342-9a7e01e44205",
   "metadata": {},
   "outputs": [],
   "source": [
    "class Daily_Object:\n",
    "  def phone_case(self):\n",
    "    print('Strong Build Phone Case')\n",
    "\n",
    "class JBL:\n",
    "  def sonic_speaker(self):\n",
    "    print('High Quality Sound Speaker')\n",
    "\n",
    "class Samsung:\n",
    "  def screen_display(self):\n",
    "    print('4k HD Display')\n",
    "\n",
    "class Nvidia:\n",
    "  def motherboard(self):\n",
    "    print('Fast motherboard')\n",
    "\n",
    "class Sony:\n",
    "  def camera(self):\n",
    "    print('4k Camera')\n",
    "\n",
    "class Lava:\n",
    "  def charger(self):\n",
    "    print('SuperFast Charger')\n",
    "\n",
    "\n",
    "class Mobile:\n",
    "  def __init__(self):\n",
    "    print('Phone Object Created Successfully!!')\n",
    "  ...\n",
    "  pass"
   ]
  },
  {
   "cell_type": "code",
   "execution_count": 25,
   "id": "0f6df3a7-91c5-42b8-8bc7-3e97c99f4532",
   "metadata": {},
   "outputs": [
    {
     "name": "stdout",
     "output_type": "stream",
     "text": [
      "Phone Object Created Successfully!!\n"
     ]
    }
   ],
   "source": [
    "nothing = Mobile()"
   ]
  },
  {
   "cell_type": "code",
   "execution_count": 46,
   "id": "d21ecfc0-069a-4bd9-ba41-805a7cb2283c",
   "metadata": {},
   "outputs": [],
   "source": [
    "class Daily_Object:\n",
    "  def phone_case(self):\n",
    "    print('Strong Build Phone Case')\n",
    "\n",
    "class JBL:\n",
    "  def sonic_speaker(self):\n",
    "    print('High Quality Sound Speaker')\n",
    "\n",
    "class Samsung:\n",
    "  def screen_display(self):\n",
    "    print('4k HD Display')\n",
    "\n",
    "class Nvidia:\n",
    "  def motherboard(self):\n",
    "    print('Fast motherboard')\n",
    "\n",
    "class Sony:\n",
    "  def camera(self):\n",
    "    print('4k Camera')\n",
    "\n",
    "class Lava:\n",
    "  def charger(self):\n",
    "    print('SuperFast Charger from lava')\n",
    "\n",
    "\n",
    "class One_plus:\n",
    "    def charger(self):\n",
    "        print('SuperFast One_plus Charger')\n",
    "\n",
    "\n",
    "class Mobile(Daily_Object,JBL,Samsung,Nvidia,Sony,One_plus,Lava):\n",
    "  def __init__(self):\n",
    "    print('Phone Object Created Successfully!!')\n",
    "\n",
    "\n",
    "  def charger(self):\n",
    "    print('SuperFast Charger from MObile itself')"
   ]
  },
  {
   "cell_type": "code",
   "execution_count": 47,
   "id": "ab666438-63c1-47a0-a00c-bd4fc0ceb8f7",
   "metadata": {},
   "outputs": [
    {
     "name": "stdout",
     "output_type": "stream",
     "text": [
      "Phone Object Created Successfully!!\n"
     ]
    }
   ],
   "source": [
    "nothing1 = Mobile()"
   ]
  },
  {
   "cell_type": "code",
   "execution_count": 48,
   "id": "3616baad-e7b9-4617-a763-3ca748c859f3",
   "metadata": {},
   "outputs": [
    {
     "name": "stdout",
     "output_type": "stream",
     "text": [
      "High Quality Sound Speaker\n"
     ]
    }
   ],
   "source": [
    "nothing1.sonic_speaker()"
   ]
  },
  {
   "cell_type": "code",
   "execution_count": 49,
   "id": "b44b89ab-ea64-4edc-80d5-bfb43e076776",
   "metadata": {},
   "outputs": [
    {
     "name": "stdout",
     "output_type": "stream",
     "text": [
      "SuperFast Charger from MObile itself\n"
     ]
    }
   ],
   "source": [
    "nothing1.charger()\n"
   ]
  },
  {
   "cell_type": "code",
   "execution_count": 51,
   "id": "82868df8-d634-4992-97ab-bac6632ebd90",
   "metadata": {},
   "outputs": [],
   "source": [
    "# Multileve inheritance"
   ]
  },
  {
   "cell_type": "code",
   "execution_count": 52,
   "id": "3ffed897-433f-4d00-b3fa-09a7584c83d3",
   "metadata": {},
   "outputs": [],
   "source": [
    "class GrandFather:\n",
    "  def land_property(self):\n",
    "    print('Land Property!!')\n",
    "\n",
    "class Father(GrandFather):\n",
    "  def bank_balance(self):\n",
    "    print('Big Money Player, Huge Bank Balance')\n",
    "\n",
    "class Son(Father):\n",
    "  def political_power(self):\n",
    "    print('Political Powers')\n",
    "\n",
    "class GrandSon(Son):\n",
    "  def mind(self):\n",
    "    print('Mind For Self Study!!')\n",
    "\n",
    "class Friend(GrandSon):\n",
    "  def __init__(self):\n",
    "      \n",
    "    print('Nothing!!')"
   ]
  },
  {
   "cell_type": "code",
   "execution_count": 53,
   "id": "3cc3d362-233b-4db2-95d1-11d5820fd2cc",
   "metadata": {},
   "outputs": [],
   "source": [
    "aman = GrandSon()"
   ]
  },
  {
   "cell_type": "code",
   "execution_count": 54,
   "id": "858acba3-1614-4d71-ad9e-5879071ea957",
   "metadata": {},
   "outputs": [
    {
     "ename": "SyntaxError",
     "evalue": "invalid syntax (930863635.py, line 1)",
     "output_type": "error",
     "traceback": [
      "  \u001b[36mCell\u001b[39m\u001b[36m \u001b[39m\u001b[32mIn[54]\u001b[39m\u001b[32m, line 1\u001b[39m\n\u001b[31m    \u001b[39m\u001b[31maman.\u001b[39m\n         ^\n\u001b[31mSyntaxError\u001b[39m\u001b[31m:\u001b[39m invalid syntax\n"
     ]
    }
   ],
   "source": [
    "aman."
   ]
  },
  {
   "cell_type": "code",
   "execution_count": 55,
   "id": "2f227c77-e010-4e57-bb04-1beec9961c3c",
   "metadata": {},
   "outputs": [
    {
     "name": "stdout",
     "output_type": "stream",
     "text": [
      "Nothing!!\n"
     ]
    }
   ],
   "source": [
    "karan= Friend()"
   ]
  },
  {
   "cell_type": "code",
   "execution_count": 56,
   "id": "10ae1394-d8e0-47a4-ba0c-19e8cfb06584",
   "metadata": {},
   "outputs": [
    {
     "ename": "SyntaxError",
     "evalue": "invalid syntax (4048442778.py, line 1)",
     "output_type": "error",
     "traceback": [
      "  \u001b[36mCell\u001b[39m\u001b[36m \u001b[39m\u001b[32mIn[56]\u001b[39m\u001b[32m, line 1\u001b[39m\n\u001b[31m    \u001b[39m\u001b[31mkaran.\u001b[39m\n          ^\n\u001b[31mSyntaxError\u001b[39m\u001b[31m:\u001b[39m invalid syntax\n"
     ]
    }
   ],
   "source": [
    "karan."
   ]
  },
  {
   "cell_type": "code",
   "execution_count": null,
   "id": "de59f273-9d76-4544-9e89-e3cc05d60f30",
   "metadata": {},
   "outputs": [],
   "source": []
  },
  {
   "cell_type": "code",
   "execution_count": 57,
   "id": "cfaa1c15-d20b-4c5d-ae29-9789a72afb77",
   "metadata": {},
   "outputs": [],
   "source": [
    "# Hybrid Inheritance"
   ]
  },
  {
   "cell_type": "code",
   "execution_count": 58,
   "id": "59be3e13-ac81-4cf5-8a05-ad665f5a6bf4",
   "metadata": {},
   "outputs": [],
   "source": [
    "class Hybrid_class(Mobile,Friend,Audi):\n",
    "  def __init__(self):\n",
    "    print('This is a Hybrid Class')\n",
    "\n",
    "  def info(self):\n",
    "      print('It can call any methods!!')\n",
    "      "
   ]
  },
  {
   "cell_type": "code",
   "execution_count": 59,
   "id": "8524bc33-b5bc-41d5-9589-6304c5e97267",
   "metadata": {},
   "outputs": [
    {
     "name": "stdout",
     "output_type": "stream",
     "text": [
      "This is a Hybrid Class\n"
     ]
    }
   ],
   "source": [
    "rkb = Hybrid_class()\n"
   ]
  },
  {
   "cell_type": "code",
   "execution_count": 61,
   "id": "3f8a995a-b5e0-4ab3-affc-efc7d3250662",
   "metadata": {},
   "outputs": [
    {
     "ename": "SyntaxError",
     "evalue": "invalid syntax (1713763779.py, line 1)",
     "output_type": "error",
     "traceback": [
      "  \u001b[36mCell\u001b[39m\u001b[36m \u001b[39m\u001b[32mIn[61]\u001b[39m\u001b[32m, line 1\u001b[39m\n\u001b[31m    \u001b[39m\u001b[31mrkb.\u001b[39m\n        ^\n\u001b[31mSyntaxError\u001b[39m\u001b[31m:\u001b[39m invalid syntax\n"
     ]
    }
   ],
   "source": [
    "rkb."
   ]
  },
  {
   "cell_type": "code",
   "execution_count": 63,
   "id": "e587c271-8cc1-490b-8eee-e21f48ef1778",
   "metadata": {},
   "outputs": [],
   "source": [
    "#Hybrid inheritance\n"
   ]
  },
  {
   "cell_type": "code",
   "execution_count": null,
   "id": "8bc2c388-3f1e-438b-a065-3d18be605369",
   "metadata": {},
   "outputs": [],
   "source": [
    "\n"
   ]
  },
  {
   "cell_type": "code",
   "execution_count": 64,
   "id": "58c287c2-5071-4ba6-b265-2738d79f4c17",
   "metadata": {},
   "outputs": [],
   "source": [
    "class UGC:  # Parent Class\n",
    "  def __init__(self):\n",
    "    print('Grant Permission')\n",
    "  def college_approved(self):\n",
    "    print('College Has been Approved')\n",
    "\n",
    "class DU(UGC):\n",
    "  def multiple_colleges(self):\n",
    "    print('List of Colleges!!')\n",
    "\n",
    "class IP(UGC):\n",
    "  def multiple_colleges(self):\n",
    "    print('List of Colleges!!')\n",
    "\n",
    "\n",
    "class DTU(UGC):\n",
    "  def multiple_colleges(self):\n",
    "    print('List of Colleges!!')\n",
    "\n",
    "class BHU(UGC):\n",
    "  def multiple_colleges(self):\n",
    "    print('List of Colleges!!')"
   ]
  },
  {
   "cell_type": "code",
   "execution_count": null,
   "id": "af6302f3-d2c4-4767-a2d2-c4ec34291192",
   "metadata": {},
   "outputs": [],
   "source": [
    "\n",
    "\n",
    "\n",
    "\n"
   ]
  },
  {
   "cell_type": "markdown",
   "id": "846e19ac-aded-4b83-af10-863f9a0c82ae",
   "metadata": {},
   "source": [
    "Polymorphism\n",
    "\n",
    "\n",
    "\n",
    "\n"
   ]
  },
  {
   "cell_type": "code",
   "execution_count": null,
   "id": "d0b31a62-ec5b-4dc4-b0a2-31c7bccb4117",
   "metadata": {},
   "outputs": [],
   "source": [
    "#overiding\n",
    "#overloading"
   ]
  },
  {
   "cell_type": "code",
   "execution_count": 67,
   "id": "14b58132-67a9-42a6-82e8-ce23fccdddea",
   "metadata": {},
   "outputs": [
    {
     "name": "stdout",
     "output_type": "stream",
     "text": [
      "None <class 'NoneType'>\n"
     ]
    }
   ],
   "source": [
    "a=45\n",
    "a='34'\n",
    "a=None\n",
    "print(a,type(a))"
   ]
  },
  {
   "cell_type": "code",
   "execution_count": 73,
   "id": "d73af062-f955-4eb2-99a6-762a6f9d3b1c",
   "metadata": {},
   "outputs": [
    {
     "name": "stdout",
     "output_type": "stream",
     "text": [
      "F1 car speed:  Max speed 200 km/hr\n",
      "F1 car speed:  Max speed 250 km/hr\n",
      "F1 car speed:  Max speed 300 km/hr\n"
     ]
    }
   ],
   "source": [
    "class Car:\n",
    "  def speed(self):\n",
    "    return('Max speed 200 km/hr')\n",
    "\n",
    "  def auto_pilot(self):\n",
    "    return('It supports Auto Pilot Mode!!')\n",
    "\n",
    "  def info(self):\n",
    "    return('This is just a car object')\n",
    "\n",
    "\n",
    "class Bmw(Car):\n",
    "  def speed(self):\n",
    "    return('Max speed 250 km/hr')\n",
    "\n",
    "  def info(self):\n",
    "    return('A BMW car object')\n",
    "\n",
    "\n",
    "\n",
    "class Audi(Car):\n",
    "  def speed(self):\n",
    "    return('Max speed 300 km/hr')\n",
    "\n",
    "  def info(self):\n",
    "    return('Audi car🏎️')\n",
    "\n",
    "\n",
    "\n",
    "\n",
    "\n",
    "for i in [Car,Bmw,Audi]:\n",
    "  f1 = i()\n",
    "  print('F1 car speed: ',f1.speed())\n"
   ]
  },
  {
   "cell_type": "code",
   "execution_count": null,
   "id": "703ef544-6b0d-40a6-b01e-c2a0ffcde1e8",
   "metadata": {},
   "outputs": [],
   "source": []
  },
  {
   "cell_type": "code",
   "execution_count": null,
   "id": "708be44e-86cc-43ac-9f15-2285c7474c85",
   "metadata": {},
   "outputs": [],
   "source": []
  },
  {
   "cell_type": "code",
   "execution_count": null,
   "id": "e831c56b-11e2-4bf5-ae28-7143faebf196",
   "metadata": {},
   "outputs": [],
   "source": []
  },
  {
   "cell_type": "code",
   "execution_count": 78,
   "id": "6e55099d-cf38-4009-a02f-94ecb7204284",
   "metadata": {},
   "outputs": [
    {
     "name": "stdout",
     "output_type": "stream",
     "text": [
      "Hello Narender,how are you??\n",
      "Your Address is Delhi\n"
     ]
    }
   ],
   "source": [
    "class IITM:\n",
    "\n",
    "  def intro(self):\n",
    "    print('Hello Candidates!!')\n",
    "\n",
    "  def intro(self,name):\n",
    "    print(f'Hello {name},how are you??')\n",
    "\n",
    "  def intro(self,name,address):\n",
    "    print(f'Hello {name},how are you??')\n",
    "    print(f'Your Address is {address}')\n",
    "\n",
    "a = IITM()\n",
    "\n",
    "a.intro('Narender','Delhi')"
   ]
  },
  {
   "cell_type": "code",
   "execution_count": 76,
   "id": "650e9e7f-86fa-477f-984d-beca6fe0ed22",
   "metadata": {},
   "outputs": [],
   "source": [
    "class IITM:\n",
    "\n",
    "  def intro(self,name = None,address = None):\n",
    "    if (name == None) and (address == None):\n",
    "      print('Hello Candidates!!')\n",
    "\n",
    "    elif name != None and (address == None):\n",
    "      print(f'Hello {name},how are you??')\n",
    "\n",
    "    elif (name != None) and  (address != None):\n",
    "      print(f'Hello {name},how are you??')\n",
    "      print(f'Your Address is {address}')\n",
    "\n",
    "    else:\n",
    "      print('Hello Buddy!!')"
   ]
  },
  {
   "cell_type": "code",
   "execution_count": 77,
   "id": "8bd6058d-4106-4722-ac77-acfa75c469e7",
   "metadata": {},
   "outputs": [
    {
     "name": "stdout",
     "output_type": "stream",
     "text": [
      "Hello Candidates!!\n"
     ]
    }
   ],
   "source": [
    "a = IITM()\n",
    "a.intro()\n"
   ]
  },
  {
   "cell_type": "code",
   "execution_count": null,
   "id": "8f69b433-ea3a-4296-9108-584e00c7711d",
   "metadata": {},
   "outputs": [],
   "source": []
  },
  {
   "cell_type": "code",
   "execution_count": null,
   "id": "e469b51a-f6bf-4c0d-a15e-97bd4c388780",
   "metadata": {},
   "outputs": [],
   "source": []
  },
  {
   "cell_type": "markdown",
   "id": "5d7d2b3b-d611-475c-a2cb-2a5e1970f365",
   "metadata": {},
   "source": [
    "ABSTRACTION"
   ]
  },
  {
   "cell_type": "code",
   "execution_count": null,
   "id": "d9f535b5-7331-469e-8f2b-7a5242c70d3b",
   "metadata": {},
   "outputs": [],
   "source": []
  },
  {
   "cell_type": "code",
   "execution_count": 79,
   "id": "bcdfd395-1cf1-43d2-b882-1708252dac76",
   "metadata": {},
   "outputs": [],
   "source": [
    "# Idea: BluePrint\n",
    "# Not a Physical Object\n",
    "# Abstraction:- project Management\n",
    "\n",
    "# class Website:\n",
    "#   def login()\n",
    "#   def logout()\n",
    "#   def signup()\n",
    "#   def updates()\n",
    "#   def maultiple_pages():"
   ]
  },
  {
   "cell_type": "code",
   "execution_count": 86,
   "id": "bae5f92a-fbb5-4a5e-a2e0-bcb704b9ad2a",
   "metadata": {},
   "outputs": [
    {
     "ename": "TypeError",
     "evalue": "Can't instantiate abstract class Website with abstract methods login, logout",
     "output_type": "error",
     "traceback": [
      "\u001b[31m---------------------------------------------------------------------------\u001b[39m",
      "\u001b[31mTypeError\u001b[39m                                 Traceback (most recent call last)",
      "\u001b[36mCell\u001b[39m\u001b[36m \u001b[39m\u001b[32mIn[86]\u001b[39m\u001b[32m, line 13\u001b[39m\n\u001b[32m      8\u001b[39m     \u001b[38;5;129m@abstractmethod\u001b[39m\n\u001b[32m      9\u001b[39m     \u001b[38;5;28;01mdef\u001b[39;00m\u001b[38;5;250m \u001b[39m\u001b[34mlogout\u001b[39m(\u001b[38;5;28mself\u001b[39m):\n\u001b[32m     10\u001b[39m         \u001b[38;5;28mprint\u001b[39m(\u001b[33m'\u001b[39m\u001b[33mA logout method\u001b[39m\u001b[33m'\u001b[39m)\n\u001b[32m---> \u001b[39m\u001b[32m13\u001b[39m asus = \u001b[43mWebsite\u001b[49m\u001b[43m(\u001b[49m\u001b[43m)\u001b[49m\n\u001b[32m     14\u001b[39m \u001b[38;5;28mprint\u001b[39m(\u001b[33m'\u001b[39m\u001b[33mDone\u001b[39m\u001b[33m'\u001b[39m)\n",
      "\u001b[31mTypeError\u001b[39m: Can't instantiate abstract class Website with abstract methods login, logout"
     ]
    }
   ],
   "source": [
    "from abc import ABC, abstractmethod\n",
    "\n",
    "class Website(ABC):\n",
    "\n",
    "    @abstractmethod\n",
    "    def login(self):\n",
    "        print('This is a Login method')\n",
    "    @abstractmethod\n",
    "    def logout(self):\n",
    "        print('A logout method')\n",
    "\n",
    "\n",
    "asus = Website()\n",
    "print('Done')"
   ]
  },
  {
   "cell_type": "code",
   "execution_count": 90,
   "id": "0b7472a7-1d6b-4bc6-a4a1-613a3f92b52d",
   "metadata": {},
   "outputs": [],
   "source": [
    "class Narender(Website):\n",
    "\n",
    "  def signup(self):\n",
    "    print('user can Signup!!')\n",
    "\n",
    "  def login(self):\n",
    "    print('This is a Login  Form')\n",
    "\n",
    "  def logout(self):\n",
    "    print('User can logout')\n",
    "\n",
    "google = Narender()\n"
   ]
  },
  {
   "cell_type": "code",
   "execution_count": 91,
   "id": "9d89021d-3cfe-42d2-85df-c3de45f66610",
   "metadata": {},
   "outputs": [
    {
     "name": "stdout",
     "output_type": "stream",
     "text": [
      "user can Signup!!\n"
     ]
    }
   ],
   "source": [
    "google.signup()"
   ]
  },
  {
   "cell_type": "code",
   "execution_count": 92,
   "id": "fe3f8e37-fb4b-4791-a470-b818e0f036e2",
   "metadata": {},
   "outputs": [
    {
     "name": "stdout",
     "output_type": "stream",
     "text": [
      "User can logout\n"
     ]
    }
   ],
   "source": [
    "google.logout()"
   ]
  },
  {
   "cell_type": "code",
   "execution_count": null,
   "id": "04cddbee-0de5-4a97-b3aa-17f7527af788",
   "metadata": {},
   "outputs": [],
   "source": []
  }
 ],
 "metadata": {
  "kernelspec": {
   "display_name": "Python 3 (ipykernel)",
   "language": "python",
   "name": "python3"
  },
  "language_info": {
   "codemirror_mode": {
    "name": "ipython",
    "version": 3
   },
   "file_extension": ".py",
   "mimetype": "text/x-python",
   "name": "python",
   "nbconvert_exporter": "python",
   "pygments_lexer": "ipython3",
   "version": "3.11.0"
  }
 },
 "nbformat": 4,
 "nbformat_minor": 5
}
