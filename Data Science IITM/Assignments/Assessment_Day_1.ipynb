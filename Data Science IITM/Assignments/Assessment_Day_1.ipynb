{
 "cells": [
  {
   "cell_type": "code",
   "execution_count": 1,
   "id": "1a485a12",
   "metadata": {},
   "outputs": [],
   "source": [
    "# Assessment_Day_1"
   ]
  },
  {
   "cell_type": "code",
   "execution_count": 1,
   "id": "50fb2f59",
   "metadata": {},
   "outputs": [],
   "source": [
    "# Ques:create a monthly budget calculator for indian household expense \n",
    "\n",
    "def monthly_budget_calculator():\n",
    "    print(\"Monthly Budget Calculator for Indian Household\\n\")\n",
    "\n",
    "    monthly_income = float(input(\"Enter your total monthly income (INR): \"))\n",
    "\n",
    "    categories = [\n",
    "        \"Rent / Home Loan\",\n",
    "        \"Groceries\",\n",
    "        \"Electricity Bill\",\n",
    "        \"Water Bill\",\n",
    "        \"Mobile / Internet\",\n",
    "        \"Transportation / Fuel\",\n",
    "        \"School Fees / Education\",\n",
    "        \"Healthcare / Medicines\",\n",
    "        \"Savings / Investments\",\n",
    "        \"Entertainment\",\n",
    "    ]\n",
    "\n",
    "    expenses = {}\n",
    "    total_expense = 0\n",
    "\n",
    "    print(\"\\nEnter your expenses for each category:\")\n",
    "    for category in categories:\n",
    "        amount = float(input(f\"{category}: INR \"))\n",
    "        expenses[category] = amount\n",
    "        total_expense += amount\n",
    "\n",
    "    balance = monthly_income - total_expense\n",
    "\n",
    "    print(\"\\n Monthly Budget Summary:\")\n",
    "    print(f\"Total Income      : INR {monthly_income:,.2f}\")\n",
    "    print(f\"Total Expenses    : INR {total_expense:,.2f}\")\n",
    "    print(f\"Remaining Balance : INR {balance:,.2f}\")\n",
    "\n",
    "    print(\"\\n Expense Breakdown:\")\n",
    "    for category, amount in expenses.items():\n",
    "        print(f\"{category:<30} : INR {amount:,.2f}\")"
   ]
  },
  {
   "cell_type": "code",
   "execution_count": 2,
   "id": "b17ecd47",
   "metadata": {},
   "outputs": [
    {
     "name": "stdout",
     "output_type": "stream",
     "text": [
      "Monthly Budget Calculator for Indian Household\n",
      "\n"
     ]
    },
    {
     "name": "stdin",
     "output_type": "stream",
     "text": [
      "Enter your total monthly income (INR):  100000\n"
     ]
    },
    {
     "name": "stdout",
     "output_type": "stream",
     "text": [
      "\n",
      "Enter your expenses for each category:\n"
     ]
    },
    {
     "name": "stdin",
     "output_type": "stream",
     "text": [
      "Rent / Home Loan: INR  6500\n",
      "Groceries: INR  10000\n",
      "Electricity Bill: INR  3500\n",
      "Water Bill: INR  500\n",
      "Mobile / Internet: INR  2000\n",
      "Transportation / Fuel: INR  9000\n",
      "School Fees / Education: INR  8000\n",
      "Healthcare / Medicines: INR  5000\n",
      "Savings / Investments: INR  30000\n",
      "Entertainment: INR  4000\n"
     ]
    },
    {
     "name": "stdout",
     "output_type": "stream",
     "text": [
      "\n",
      " Monthly Budget Summary:\n",
      "Total Income      : INR 100,000.00\n",
      "Total Expenses    : INR 78,500.00\n",
      "Remaining Balance : INR 21,500.00\n",
      "\n",
      " Expense Breakdown:\n",
      "Rent / Home Loan               : INR 6,500.00\n",
      "Groceries                      : INR 10,000.00\n",
      "Electricity Bill               : INR 3,500.00\n",
      "Water Bill                     : INR 500.00\n",
      "Mobile / Internet              : INR 2,000.00\n",
      "Transportation / Fuel          : INR 9,000.00\n",
      "School Fees / Education        : INR 8,000.00\n",
      "Healthcare / Medicines         : INR 5,000.00\n",
      "Savings / Investments          : INR 30,000.00\n",
      "Entertainment                  : INR 4,000.00\n"
     ]
    }
   ],
   "source": [
    "monthly_budget_calculator()"
   ]
  },
  {
   "cell_type": "code",
   "execution_count": 4,
   "id": "2decc9b2",
   "metadata": {},
   "outputs": [],
   "source": [
    "# check_voting_eligibility\n",
    "\n",
    "def check_voting_eligibility():\n",
    "    print(\"📋 Indian Voter Eligibility Checker\")\n",
    "\n",
    "    name = input(\"Enter your name: \")\n",
    "    age = int(input(\"Enter your age: \"))\n",
    "    nationality = input(\"Are you an Indian citizen? (yes/no): \").lower()\n",
    "\n",
    "    if age >= 18 and nationality == \"yes\":\n",
    "        print(f\" Congratulations {name}!\")\n",
    "        print(\"You are eligible to vote in Indian elections.\")\n",
    "        print(\"\\n📄 Next steps:\")\n",
    "        print(\"1. Apply for Voter ID card at nearest election office\")\n",
    "        print(\"2. Required documents: Age proof, Address proof, Identity proof\")\n",
    "        print(\"3. You can vote in Lok Sabha, Vidhan Sabha, and local elections\")\n",
    "\n",
    "    elif age < 18:\n",
    "        years_left = 18 - age\n",
    "        print(f\" Sorry {name}, you need to wait {years_left} more year(s)\")\n",
    "        print(\"You can pre-register when you turn 17!\")\n",
    "\n",
    "    else:\n",
    "        print(\"Only Indian citizens can vote in Indian elections\")\n"
   ]
  },
  {
   "cell_type": "code",
   "execution_count": 5,
   "id": "8eb255c3",
   "metadata": {},
   "outputs": [
    {
     "name": "stdout",
     "output_type": "stream",
     "text": [
      "📋 Indian Voter Eligibility Checker\n"
     ]
    },
    {
     "name": "stdin",
     "output_type": "stream",
     "text": [
      "Enter your name:  Narender\n",
      "Enter your age:  20\n",
      "Are you an Indian citizen? (yes/no):  Yes\n"
     ]
    },
    {
     "name": "stdout",
     "output_type": "stream",
     "text": [
      " Congratulations Narender!\n",
      "You are eligible to vote in Indian elections.\n",
      "\n",
      "📄 Next steps:\n",
      "1. Apply for Voter ID card at nearest election office\n",
      "2. Required documents: Age proof, Address proof, Identity proof\n",
      "3. You can vote in Lok Sabha, Vidhan Sabha, and local elections\n"
     ]
    }
   ],
   "source": [
    "check_voting_eligibility()\n"
   ]
  },
  {
   "cell_type": "code",
   "execution_count": 8,
   "id": "64f56498",
   "metadata": {},
   "outputs": [],
   "source": [
    "def atm_pin_game_():\n",
    "    import random\n",
    "\n",
    "    print(\" Welcome to the ATM PIN Verification System\")\n",
    "    print(\" Your card is locked. Verify your identity to unlock.\")\n",
    "    print(\" You have 3 chances\\n\")\n",
    "\n",
    "   \n",
    "    correct_pin = random.randint(1000, 9999)\n",
    "    attempts_left = 3\n",
    "\n",
    "    print(f\"(Debug Hint: Correct PIN is {correct_pin})\")\n",
    "\n",
    "    while attempts_left > 0:\n",
    "        try:\n",
    "            user_input = input(f\" Enter 4-digit PIN (Attempts left: {attempts_left}): \")\n",
    "            \n",
    "            if len(user_input) != 4 or not user_input.isdigit():\n",
    "                print(\" PIN must be exactly 4 digits (numbers only)!\")\n",
    "                continue\n",
    "\n",
    "            user_pin = int(user_input)\n",
    "\n",
    "            if user_pin == correct_pin:\n",
    "                print(\" Access Granted! Your ATM card is now unlocked.\")\n",
    "                print(\" Proceed with your transaction.\")\n",
    "                break\n",
    "            else:\n",
    "                attempts_left -= 1\n",
    "                if attempts_left > 0:\n",
    "                    print(f\" Incorrect PIN! {attempts_left} attempts remaining.\\n\")\n",
    "                else:\n",
    "                    print(\" Card Blocked! Too many wrong attempts.\")\n",
    "                    print(\" Please visit your bank for assistance.\")\n",
    "        except ValueError:\n",
    "            print(\"Invalid input! Please enter a numeric 4-digit PIN.\")\n",
    "\n",
    "\n"
   ]
  },
  {
   "cell_type": "code",
   "execution_count": 10,
   "id": "22a0a17b",
   "metadata": {},
   "outputs": [
    {
     "name": "stdout",
     "output_type": "stream",
     "text": [
      " Welcome to the ATM PIN Verification System\n",
      " Your card is locked. Verify your identity to unlock.\n",
      " You have 3 chances\n",
      "\n",
      "(Debug Hint: Correct PIN is 6646)\n"
     ]
    },
    {
     "name": "stdin",
     "output_type": "stream",
     "text": [
      " Enter 4-digit PIN (Attempts left: 3):  6646\n"
     ]
    },
    {
     "name": "stdout",
     "output_type": "stream",
     "text": [
      " Access Granted! Your ATM card is now unlocked.\n",
      " Proceed with your transaction.\n"
     ]
    }
   ],
   "source": [
    "atm_pin_game_()"
   ]
  },
  {
   "cell_type": "code",
   "execution_count": 11,
   "id": "9b2d3f83",
   "metadata": {},
   "outputs": [],
   "source": [
    "# Student Report Card Function\n",
    "\n",
    "def generate_report_card():\n",
    "    print(\"Student Report Card Generator\")\n",
    "\n",
    "    name = input(\"Enter your name: \")\n",
    "    roll_no = input(\"Enter your roll number: \")\n",
    "    cls = input(\"Enter your class: \")\n",
    "    school = input(\"Enter your school name: \")\n",
    "\n",
    "    subjects = {}\n",
    "    total = 0\n",
    "\n",
    "    for i in range(5):\n",
    "        subject = input(f\"Enter subject {i+1} name: \")\n",
    "        marks = int(input(f\"Enter marks for {subject}: \"))\n",
    "        subjects[subject] = marks\n",
    "        total += marks\n",
    "\n",
    "    percentage = total / 5\n",
    "\n",
    "    print(\"\\n--- Report Card ---\")\n",
    "    print(f\"Name: {name}\")\n",
    "    print(f\"Roll Number: {roll_no}\")\n",
    "    print(f\"Class: {cls}\")\n",
    "    print(f\"School: {school}\")\n",
    "    print(\"\\nMarks:\")\n",
    "    for subject, marks in subjects.items():\n",
    "        print(f\"{subject}: {marks}\")\n",
    "\n",
    "    print(f\"\\nTotal Marks: {total}/500\")\n",
    "    print(f\"Percentage: {percentage:.2f}%\")\n",
    "\n",
    "    if percentage >= 90:\n",
    "        grade = \"A+\"\n",
    "    elif percentage >= 75:\n",
    "        grade = \"A\"\n",
    "    elif percentage >= 60:\n",
    "        grade = \"B\"\n",
    "    elif percentage >= 50:\n",
    "        grade = \"C\"\n",
    "    else:\n",
    "        grade = \"D\"\n",
    "\n",
    "    print(f\"Grade: {grade}\")"
   ]
  },
  {
   "cell_type": "code",
   "execution_count": 12,
   "id": "5f0cce61",
   "metadata": {},
   "outputs": [
    {
     "name": "stdout",
     "output_type": "stream",
     "text": [
      "Student Report Card Generator\n"
     ]
    },
    {
     "name": "stdin",
     "output_type": "stream",
     "text": [
      "Enter your name:  Narender\n",
      "Enter your roll number:  085\n",
      "Enter your class:  8\n",
      "Enter your school name:  KVS\n",
      "Enter subject 1 name:  Hindi\n",
      "Enter marks for Hindi:  80\n",
      "Enter subject 2 name:  English\n",
      "Enter marks for English:  90\n",
      "Enter subject 3 name:  SST\n",
      "Enter marks for SST:  79\n",
      "Enter subject 4 name:  EVS\n",
      "Enter marks for EVS:  89\n",
      "Enter subject 5 name:  Maths\n",
      "Enter marks for Maths:  78\n"
     ]
    },
    {
     "name": "stdout",
     "output_type": "stream",
     "text": [
      "\n",
      "--- Report Card ---\n",
      "Name: Narender\n",
      "Roll Number: 085\n",
      "Class: 8\n",
      "School: KVS\n",
      "\n",
      "Marks:\n",
      "Hindi: 80\n",
      "English: 90\n",
      "SST: 79\n",
      "EVS: 89\n",
      "Maths: 78\n",
      "\n",
      "Total Marks: 416/500\n",
      "Percentage: 83.20%\n",
      "Grade: A\n"
     ]
    }
   ],
   "source": [
    "generate_report_card()"
   ]
  },
  {
   "cell_type": "code",
   "execution_count": 13,
   "id": "c0099e80",
   "metadata": {},
   "outputs": [],
   "source": [
    "# Railway Seat Booking\n",
    "\n",
    "def railway_seat_booking():\n",
    "    print(\"Railway Seat Booking System\")\n",
    "\n",
    "    seats = {\n",
    "        \"A1\": True,\n",
    "        \"A2\": True,\n",
    "        \"A3\": True,\n",
    "        \"A4\": True,\n",
    "        \"A5\": True\n",
    "    }\n",
    "\n",
    "    def show_seats():\n",
    "        print(\"\\nAvailable Seats:\")\n",
    "        for seat, available in seats.items():\n",
    "            status = \"Available\" if available else \"Booked\"\n",
    "            print(f\"{seat}: {status}\")\n",
    "\n",
    "    show_seats()\n",
    "    name = input(\"Enter your name: \")\n",
    "    seat_choice = input(\"Enter seat you want to book (e.g., A1): \").upper()\n",
    "\n",
    "    if seat_choice in seats:\n",
    "        if seats[seat_choice]:\n",
    "            seats[seat_choice] = False\n",
    "            print(f\"Seat {seat_choice} successfully booked for {name}.\")\n",
    "        else:\n",
    "            print(f\"Seat {seat_choice} is already booked.\")\n",
    "    else:\n",
    "        print(\"Invalid seat number.\")\n",
    "\n",
    "    show_seats()"
   ]
  },
  {
   "cell_type": "code",
   "execution_count": 14,
   "id": "4a02b540",
   "metadata": {},
   "outputs": [
    {
     "name": "stdout",
     "output_type": "stream",
     "text": [
      "Railway Seat Booking System\n",
      "\n",
      "Available Seats:\n",
      "A1: Available\n",
      "A2: Available\n",
      "A3: Available\n",
      "A4: Available\n",
      "A5: Available\n"
     ]
    },
    {
     "name": "stdin",
     "output_type": "stream",
     "text": [
      "Enter your name:  Narender\n",
      "Enter seat you want to book (e.g., A1):  a4\n"
     ]
    },
    {
     "name": "stdout",
     "output_type": "stream",
     "text": [
      "Seat A4 successfully booked for Narender.\n",
      "\n",
      "Available Seats:\n",
      "A1: Available\n",
      "A2: Available\n",
      "A3: Available\n",
      "A4: Booked\n",
      "A5: Available\n"
     ]
    }
   ],
   "source": [
    "railway_seat_booking()"
   ]
  },
  {
   "cell_type": "code",
   "execution_count": null,
   "id": "8e4124fb",
   "metadata": {},
   "outputs": [],
   "source": []
  }
 ],
 "metadata": {
  "kernelspec": {
   "display_name": "Python 3 (ipykernel)",
   "language": "python",
   "name": "python3"
  },
  "language_info": {
   "codemirror_mode": {
    "name": "ipython",
    "version": 3
   },
   "file_extension": ".py",
   "mimetype": "text/x-python",
   "name": "python",
   "nbconvert_exporter": "python",
   "pygments_lexer": "ipython3",
   "version": "3.11.0"
  }
 },
 "nbformat": 4,
 "nbformat_minor": 5
}
