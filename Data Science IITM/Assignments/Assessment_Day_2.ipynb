{
 "cells": [
  {
   "cell_type": "code",
   "execution_count": 1,
   "id": "00de25b7",
   "metadata": {},
   "outputs": [],
   "source": [
    "# Assessment_Day_2"
   ]
  },
  {
   "cell_type": "code",
   "execution_count": 1,
   "id": "2cd494d5",
   "metadata": {},
   "outputs": [],
   "source": [
    "# Check odd even\n",
    "\n",
    "def check_even_odd():\n",
    "    num = int(input(\"Enter a number: \"))\n",
    "    if num % 2 == 0:\n",
    "        print(f\"{num} is Even\")\n",
    "    else:\n",
    "        print(f\"{num} is Odd\")\n",
    "\n"
   ]
  },
  {
   "cell_type": "code",
   "execution_count": 3,
   "id": "3d61f16e",
   "metadata": {},
   "outputs": [
    {
     "name": "stdin",
     "output_type": "stream",
     "text": [
      "Enter a number:  5\n"
     ]
    },
    {
     "name": "stdout",
     "output_type": "stream",
     "text": [
      "5 is Odd\n"
     ]
    }
   ],
   "source": [
    "check_even_odd()"
   ]
  },
  {
   "cell_type": "code",
   "execution_count": 4,
   "id": "95fe05ba",
   "metadata": {},
   "outputs": [],
   "source": [
    "# create pyramid_pattern\n",
    "\n",
    "def pyramid_pattern():\n",
    "    rows = int(input(\"Enter number of rows for pyramid: \"))\n",
    "    for i in range(1, rows + 1):\n",
    "        print(\" \" * (rows - i) + \"* \" * i)\n"
   ]
  },
  {
   "cell_type": "code",
   "execution_count": 5,
   "id": "3a526350",
   "metadata": {},
   "outputs": [
    {
     "name": "stdin",
     "output_type": "stream",
     "text": [
      "Enter number of rows for pyramid:  4\n"
     ]
    },
    {
     "name": "stdout",
     "output_type": "stream",
     "text": [
      "   * \n",
      "  * * \n",
      " * * * \n",
      "* * * * \n"
     ]
    }
   ],
   "source": [
    "pyramid_pattern()"
   ]
  },
  {
   "cell_type": "code",
   "execution_count": 6,
   "id": "b49314ec",
   "metadata": {},
   "outputs": [],
   "source": [
    "# hashtag_generator\n",
    "\n",
    "def hashtag_generator():\n",
    "    name = input(\"Enter startup name: \")\n",
    "    hashtag = \"#\" + name.capitalize()\n",
    "    print(\"Generated Hashtag:\", hashtag)"
   ]
  },
  {
   "cell_type": "code",
   "execution_count": 7,
   "id": "128e9a87",
   "metadata": {},
   "outputs": [
    {
     "name": "stdin",
     "output_type": "stream",
     "text": [
      "Enter startup name:  Narender\n"
     ]
    },
    {
     "name": "stdout",
     "output_type": "stream",
     "text": [
      "Generated Hashtag: #Narender\n"
     ]
    }
   ],
   "source": [
    "hashtag_generator()"
   ]
  },
  {
   "cell_type": "code",
   "execution_count": 8,
   "id": "9a91efad",
   "metadata": {},
   "outputs": [],
   "source": [
    "# factorial_calculator\n",
    "\n",
    "def factorial_calculator():\n",
    "    num = int(input(\"Enter a number: \"))\n",
    "    factorial = 1\n",
    "    for i in range(1, num + 1):\n",
    "        factorial *= i\n",
    "    print(f\"Factorial of {num} is {factorial}\")\n"
   ]
  },
  {
   "cell_type": "code",
   "execution_count": 9,
   "id": "3348c0a2",
   "metadata": {},
   "outputs": [
    {
     "name": "stdin",
     "output_type": "stream",
     "text": [
      "Enter a number:  8\n"
     ]
    },
    {
     "name": "stdout",
     "output_type": "stream",
     "text": [
      "Factorial of 8 is 40320\n"
     ]
    }
   ],
   "source": [
    "\n",
    "factorial_calculator()"
   ]
  },
  {
   "cell_type": "code",
   "execution_count": 10,
   "id": "90ee4e95",
   "metadata": {},
   "outputs": [],
   "source": [
    "# student_records\n",
    "\n",
    "def student_records(**kwargs):\n",
    "    print(\"Student Records:\")\n",
    "    for key, value in kwargs.items():\n",
    "        print(f\"{key}: {value}\")\n"
   ]
  },
  {
   "cell_type": "code",
   "execution_count": 16,
   "id": "d26be34f",
   "metadata": {},
   "outputs": [
    {
     "name": "stdout",
     "output_type": "stream",
     "text": [
      "Student Records:\n",
      "Name: Narender\n",
      "Roll: 085\n",
      "Class: 12th\n",
      "Marks: 100\n"
     ]
    }
   ],
   "source": [
    "student_records(Name=\"Narender\", Roll='085', Class=\"12th\", Marks=100)"
   ]
  },
  {
   "cell_type": "code",
   "execution_count": null,
   "id": "0bb04078",
   "metadata": {},
   "outputs": [],
   "source": []
  }
 ],
 "metadata": {
  "kernelspec": {
   "display_name": "Python 3 (ipykernel)",
   "language": "python",
   "name": "python3"
  },
  "language_info": {
   "codemirror_mode": {
    "name": "ipython",
    "version": 3
   },
   "file_extension": ".py",
   "mimetype": "text/x-python",
   "name": "python",
   "nbconvert_exporter": "python",
   "pygments_lexer": "ipython3",
   "version": "3.11.0"
  }
 },
 "nbformat": 4,
 "nbformat_minor": 5
}
