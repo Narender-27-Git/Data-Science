{
 "cells": [
  {
   "cell_type": "markdown",
   "id": "99872ef5-d442-41c0-aca2-727f6ebb6ae0",
   "metadata": {},
   "source": []
  },
  {
   "cell_type": "raw",
   "id": "1a48b73f-162d-46f1-8636-58737d01ed7e",
   "metadata": {},
   "source": [
    "Q1 - What's the main difference between a list and a tuple in Python? Give one example of each.\n",
    "Ans - \n",
    "        list= 1. lists are mutable in pyton.\n",
    "            2. list is formed using [] .\n",
    "            3. list are slightly slow as they are mutable.\n",
    "        ex - list = [1,2,3,4]\n",
    "\n",
    "\n",
    "\n",
    "        Tuple= 1. tuples are immutable in python.\n",
    "            2. tuples are fromed ising ().\n",
    "            3. tuples are faster as they are immutable\n",
    "        ex - tuple = (1,2,3,4)\n",
    "\n",
    "\n"
   ]
  },
  {
   "cell_type": "markdown",
   "id": "0ec0e2d2-5060-4c02-bd60-3868bca1ca68",
   "metadata": {},
   "source": [
    "Q2 - Explain what happens when you use the input() function in Python. What data type does it return,\n",
    "and how would you convert it to an integer?\n",
    "\n",
    "ans - when we use input()function it allows the user to input the data from his own side.\n",
    "        it returns the string(str) data type. And we can change it to integer by simply putting the int before the input argument is passing.\n",
    "        "
   ]
  },
  {
   "cell_type": "raw",
   "id": "d4fe0f20-c01e-4010-aa1e-16429cc954db",
   "metadata": {},
   "source": [
    "Q3 - What are Python dictionaries? Write the syntax to create a dictionary with three key-value pairs.\n",
    "\n",
    "ans- Python dictionaries are those datatypes that allows to store the data in  key value pairs\n",
    "    shoes them in tabular format after passing it to dataframne in pandas module.\n"
   ]
  },
  {
   "cell_type": "code",
   "execution_count": 1,
   "id": "18cfd9f2-3332-4b32-bc0f-2f0a38721fe5",
   "metadata": {},
   "outputs": [
    {
     "data": {
      "text/html": [
       "<div>\n",
       "<style scoped>\n",
       "    .dataframe tbody tr th:only-of-type {\n",
       "        vertical-align: middle;\n",
       "    }\n",
       "\n",
       "    .dataframe tbody tr th {\n",
       "        vertical-align: top;\n",
       "    }\n",
       "\n",
       "    .dataframe thead th {\n",
       "        text-align: right;\n",
       "    }\n",
       "</style>\n",
       "<table border=\"1\" class=\"dataframe\">\n",
       "  <thead>\n",
       "    <tr style=\"text-align: right;\">\n",
       "      <th></th>\n",
       "      <th>Name</th>\n",
       "      <th>class</th>\n",
       "      <th>Roll no</th>\n",
       "    </tr>\n",
       "  </thead>\n",
       "  <tbody>\n",
       "    <tr>\n",
       "      <th>0</th>\n",
       "      <td>ram</td>\n",
       "      <td>a</td>\n",
       "      <td>1</td>\n",
       "    </tr>\n",
       "    <tr>\n",
       "      <th>1</th>\n",
       "      <td>shayam</td>\n",
       "      <td>b</td>\n",
       "      <td>2</td>\n",
       "    </tr>\n",
       "  </tbody>\n",
       "</table>\n",
       "</div>"
      ],
      "text/plain": [
       "     Name class  Roll no\n",
       "0     ram     a        1\n",
       "1  shayam     b        2"
      ]
     },
     "execution_count": 1,
     "metadata": {},
     "output_type": "execute_result"
    }
   ],
   "source": [
    "import pandas as pd\n",
    "data= {'Name':['ram','shayam'],\n",
    "       'class':['a','b'],\n",
    "       'Roll no':[1,2]\n",
    "      }\n",
    "pd.DataFrame(data)\n"
   ]
  },
  {
   "cell_type": "raw",
   "id": "c49b27f1-a6ab-4631-b7b3-ac255fddc700",
   "metadata": {},
   "source": [
    "Ans 4\n",
    "loop in python allows the user to repeate the argument for many times as user required.\n",
    "#for i in range(1,6):\n",
    "in this statement 2 arguments were passed start and stop which follows n-1 approach for end value.\n"
   ]
  },
  {
   "cell_type": "code",
   "execution_count": 4,
   "id": "4d493214-6714-4ff1-9cda-1d5a61531bc5",
   "metadata": {},
   "outputs": [
    {
     "name": "stdout",
     "output_type": "stream",
     "text": [
      "1\n",
      "2\n",
      "3\n",
      "4\n",
      "5\n"
     ]
    }
   ],
   "source": [
    "for i in range(1,6):\n",
    "    print(i)"
   ]
  },
  {
   "cell_type": "raw",
   "id": "0560be7b-310f-4adb-9c6f-ced0976714e9",
   "metadata": {},
   "source": [
    "Ans 5\n",
    "exception handeling is used to prevent the unexpected errors that don't allows code to move further\n",
    "try= tells the program to that code is carring a error\n",
    "except= it allows to handle the error\n",
    "finally= this tells that the code have to run any how."
   ]
  },
  {
   "cell_type": "code",
   "execution_count": 5,
   "id": "d1ccae7e-dacd-4a69-a1b1-d22c661ef40e",
   "metadata": {},
   "outputs": [
    {
     "name": "stdin",
     "output_type": "stream",
     "text": [
      "Enter no. gd\n"
     ]
    },
    {
     "name": "stdout",
     "output_type": "stream",
     "text": [
      "Give numbers only\n",
      "Check integer\n"
     ]
    }
   ],
   "source": [
    "try:\n",
    "    a= int(input('Enter no.'))\n",
    "    b= int(input('Enter no. second '))\n",
    "except:\n",
    "    print('Give numbers only')\n",
    "\n",
    "finally:\n",
    "    print('Check integer')"
   ]
  },
  {
   "cell_type": "raw",
   "id": "77cf07cd-a894-4978-90f1-3181160f2e3a",
   "metadata": {},
   "source": [
    "ans6=\n",
    "modules =  they are the predefine group of codes written in the python language \n",
    "used to support the user to reduse time of user.\n",
    "there are more than 6 lakhs modules already present in python\n",
    "and user can make his own module.\n",
    "\n",
    "\n",
    "diff b/w \n",
    "import math is used to import the maths module into the code\n",
    "and from math import sqrt is used to import the sqrt from the math module into the code\n",
    "import pandas as pd # module calling\n",
    "from pandas import Series # calling sub part of pandas"
   ]
  },
  {
   "cell_type": "raw",
   "id": "26404740-eabe-4e02-9c3e-6e8db48d3f97",
   "metadata": {},
   "source": [
    "ans7=\n",
    "OOPs in python is used in python as python is an object oriented programming lannguage(which have 4 pillars \n",
    "1. abstraction = shows only the limited data to user\n",
    "2. Encapsulation = hides data inside object\n",
    "3. Inheritance = child classes from the parent classes\n",
    "4. polymorphism = one object but many forms (usage)"
   ]
  },
  {
   "cell_type": "markdown",
   "id": "a3a177fa-94ed-41fd-9390-d37fd4dff619",
   "metadata": {},
   "source": [
    "ans 8 =\n",
    "list comprehension is the way to use loop in list\n"
   ]
  },
  {
   "cell_type": "code",
   "execution_count": 6,
   "id": "dbb13874-d206-4267-a1b0-56418d985748",
   "metadata": {},
   "outputs": [],
   "source": [
    "result = [x*2 for x in range(10) if x%2 == 0]\n"
   ]
  },
  {
   "cell_type": "code",
   "execution_count": 9,
   "id": "e1783a64-4504-41a8-aced-1913c70fa234",
   "metadata": {},
   "outputs": [
    {
     "name": "stdout",
     "output_type": "stream",
     "text": [
      "Area:  452.16\n"
     ]
    }
   ],
   "source": [
    "# Ans 9 =\n",
    "def calculate_area(radius):\n",
    "    pi = 3.14\n",
    "    return pi * (radius ** 2)\n",
    "\n",
    "area = calculate_area(12)\n",
    "print('Area: ',area)"
   ]
  },
  {
   "cell_type": "code",
   "execution_count": 10,
   "id": "cb2e06ad-08a3-4803-a1f3-d2f752166a8a",
   "metadata": {},
   "outputs": [
    {
     "name": "stdin",
     "output_type": "stream",
     "text": [
      "Enter your name:  Narender\n",
      "Enter your age:  20\n"
     ]
    },
    {
     "name": "stdout",
     "output_type": "stream",
     "text": [
      "Hello Narender, you are 20 years old!\n"
     ]
    }
   ],
   "source": [
    "# ans= 10\n",
    "\n",
    "name = input('Enter your name: ')\n",
    "age = input('Enter your age: ')\n",
    "print(f'Hello {name}, you are {age} years old!')\n"
   ]
  },
  {
   "cell_type": "code",
   "execution_count": 14,
   "id": "c1bd2369-a21d-4f80-8520-a53876fcb823",
   "metadata": {},
   "outputs": [
    {
     "name": "stdout",
     "output_type": "stream",
     "text": [
      "1. Apple\n",
      "2. Banana\n",
      "3. Mango\n",
      "4. Orange\n",
      "5. Grapes\n"
     ]
    }
   ],
   "source": [
    "# ans 11\n",
    "fruits = ['Apple', 'Banana', 'Mango', 'Orange', 'Grapes']\n",
    "for i in range(len(fruits)):\n",
    "    print(f'{i + 1}. {fruits[i]}')\n"
   ]
  },
  {
   "cell_type": "markdown",
   "id": "f3e89a8a-bf8d-42bc-b0f8-5c9a1370a807",
   "metadata": {},
   "source": [
    "an"
   ]
  },
  {
   "cell_type": "code",
   "execution_count": 17,
   "id": "f7d03e94-33ec-4304-847b-ba228468b9d4",
   "metadata": {},
   "outputs": [
    {
     "name": "stdout",
     "output_type": "stream",
     "text": [
      "A\n",
      "B\n",
      "F\n"
     ]
    }
   ],
   "source": [
    "# ans 12\n",
    "def grade_calculator(score):\n",
    "    if 90 <= score <= 100:\n",
    "        return 'A'\n",
    "    elif 80 <= score < 90:\n",
    "        return 'B'\n",
    "    elif 70 <= score < 80:\n",
    "        return 'C'\n",
    "    elif 60 <= score < 70:\n",
    "        return 'D'\n",
    "    else:\n",
    "        return 'F'\n",
    "\n",
    "print(grade_calculator(95))  \n",
    "print(grade_calculator(82))  \n",
    "print(grade_calculator(58))  \n"
   ]
  },
  {
   "cell_type": "code",
   "execution_count": 24,
   "id": "e9951dbe-c906-4917-86e5-4779ad3a95a4",
   "metadata": {},
   "outputs": [],
   "source": [
    "# ans 13 \n",
    "# absent"
   ]
  },
  {
   "cell_type": "code",
   "execution_count": 15,
   "id": "d6a3f59c-1058-4abc-b848-69732e0f4778",
   "metadata": {},
   "outputs": [
    {
     "name": "stdout",
     "output_type": "stream",
     "text": [
      "Insufficient balance\n",
      "Narender, your current balance is 1200\n"
     ]
    }
   ],
   "source": [
    "\n",
    "# ans=14\n",
    "class BankAccount:\n",
    "    def __init__(self,name,balance):\n",
    "        self.name = name\n",
    "        self.balance = balance\n",
    "    def deposit(self,amount):\n",
    "        self.balance += amount\n",
    "    def withdraw(self,amount):\n",
    "        if amount <= self.balance:\n",
    "            self.balance -= amount\n",
    "        else:\n",
    "            print('Insufficient balance')\n",
    "    def display_balance(self):\n",
    "        print(f\"{self.name}, your current balance is {self.balance}\")\n",
    "account = BankAccount('Narender', 1000)\n",
    "account.deposit(500)\n",
    "account.withdraw(300)\n",
    "account.withdraw(1500)\n",
    "account.display_balance()\n"
   ]
  },
  {
   "cell_type": "code",
   "execution_count": 23,
   "id": "dce183cd-aa2e-4f90-b42d-cb2282be28a4",
   "metadata": {},
   "outputs": [
    {
     "name": "stdout",
     "output_type": "stream",
     "text": [
      "2\n",
      "3\n",
      "5\n",
      "7\n",
      "11\n",
      "13\n",
      "17\n",
      "19\n",
      "23\n",
      "29\n",
      "31\n",
      "37\n",
      "41\n",
      "43\n",
      "47\n"
     ]
    }
   ],
   "source": [
    "# ans 15\n",
    "for i in range(2, 51):\n",
    "    count = 0\n",
    "    for j in range(1, i + 1):\n",
    "        if i % j == 0:\n",
    "            count += 1\n",
    "    if count == 2:\n",
    "        print(i)\n"
   ]
  },
  {
   "cell_type": "code",
   "execution_count": null,
   "id": "15d10a42-cfd3-40b1-9cd4-6e939749b942",
   "metadata": {},
   "outputs": [],
   "source": []
  }
 ],
 "metadata": {
  "kernelspec": {
   "display_name": "Python 3 (ipykernel)",
   "language": "python",
   "name": "python3"
  },
  "language_info": {
   "codemirror_mode": {
    "name": "ipython",
    "version": 3
   },
   "file_extension": ".py",
   "mimetype": "text/x-python",
   "name": "python",
   "nbconvert_exporter": "python",
   "pygments_lexer": "ipython3",
   "version": "3.11.0"
  }
 },
 "nbformat": 4,
 "nbformat_minor": 5
}
